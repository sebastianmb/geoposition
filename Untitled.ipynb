{
 "cells": [
  {
   "cell_type": "code",
   "execution_count": 3,
   "id": "76067e49",
   "metadata": {},
   "outputs": [],
   "source": [
    "import pandas as pd\n",
    "import os"
   ]
  },
  {
   "cell_type": "code",
   "execution_count": 18,
   "id": "954a1e6d",
   "metadata": {},
   "outputs": [],
   "source": [
    "carpeta='D:/IGAC/Procesamiento_tematicas/Avaluos/01_OFERTAS'\n",
    "# Lista de archivos Excel en la carpeta\n",
    "archivos_excel = [archivo for archivo in os.listdir(carpeta) if archivo.endswith(\".xlsx\")]\n",
    "# Inicializa un DataFrame vacío para combinar los datos\n",
    "datos_combinados = pd.DataFrame()"
   ]
  },
  {
   "cell_type": "code",
   "execution_count": 19,
   "id": "71ddd4a2",
   "metadata": {},
   "outputs": [],
   "source": [
    "# Itera sobre los archivos Excel y combínalos\n",
    "for archivo in archivos_excel:\n",
    "    # Carga el archivo Excel en un DataFrame\n",
    "    df = pd.read_excel(os.path.join(carpeta, archivo))\n",
    "    # Combina los datos en el DataFrame principal\n",
    "    datos_combinados = pd.concat([datos_combinados, df], ignore_index=True)\n",
    "\n",
    "# Ahora, 'datos_combinados' contiene la combinación de todos los archivos Excel."
   ]
  },
  {
   "cell_type": "code",
   "execution_count": 20,
   "id": "1f82b226",
   "metadata": {},
   "outputs": [],
   "source": [
    "# Especifica la ruta y el nombre del archivo de Excel donde deseas guardar los datos\n",
    "archivo_excel = \"datos_combinados.xlsx\"\n",
    "# Convertir la columna 'MiColumna' en texto (cadena de caracteres)\n",
    "datos_combinados['Predial_20'] = datos_combinados['Predial_20'].astype(str)\n",
    "\n",
    "# Guarda el DataFrame en un archivo de Excel\n",
    "datos_combinados.to_excel(archivo_excel, index=False)\n"
   ]
  },
  {
   "cell_type": "code",
   "execution_count": null,
   "id": "0a0ef11f",
   "metadata": {},
   "outputs": [],
   "source": []
  }
 ],
 "metadata": {
  "kernelspec": {
   "display_name": "Python 3 (ipykernel)",
   "language": "python",
   "name": "python3"
  },
  "language_info": {
   "codemirror_mode": {
    "name": "ipython",
    "version": 3
   },
   "file_extension": ".py",
   "mimetype": "text/x-python",
   "name": "python",
   "nbconvert_exporter": "python",
   "pygments_lexer": "ipython3",
   "version": "3.10.7"
  }
 },
 "nbformat": 4,
 "nbformat_minor": 5
}
